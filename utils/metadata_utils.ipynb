{
 "cells": [
  {
   "cell_type": "code",
   "execution_count": null,
   "metadata": {},
   "outputs": [],
   "source": [
    "import os\n",
    "\n",
    "import numpy as np\n",
    "from dotenv import load_dotenv\n",
    "from tiled.client import from_uri\n",
    "from tiled.client.array import ArrayClient\n",
    "from tiled.client.container import Container\n",
    "\n",
    "import pandas as pd\n",
    "# from tiled.client.cache import Cache\n",
    "\n",
    "load_dotenv()"
   ]
  },
  {
   "cell_type": "code",
   "execution_count": null,
   "metadata": {},
   "outputs": [],
   "source": [
    "\n",
    "# Initialize the Tiled server\n",
    "TILED_URI = os.getenv(\"TILED_URI\")\n",
    "TILED_API_KEY = os.getenv(\"TILED_API_KEY\")\n",
    "\n",
    "client = from_uri(TILED_URI, api_key=TILED_API_KEY)\n",
    "TILED_BASE_URI = client.uri\n"
   ]
  },
  {
   "cell_type": "code",
   "execution_count": null,
   "metadata": {},
   "outputs": [],
   "source": [
    "# experiment_name = \"NaCl_5_10\"\n",
    "# new_experiment_csv_filename = experiment_name+\".csv\"\n",
    "\n",
    "# #Create an empty dataframe with scan name and 3 columns - polymer ratio A, polymer ratio B, Swell ratio\n",
    "# df = pd.DataFrame(columns=['scan_uri', 'polymer_ratio_A', 'polymer_ratio_B', 'swell_ratio', 'fraction_A', 'fraction_B', 'fraction_C'],) \n",
    "\n",
    "experiment_name = \"NaCl_5_10\"\n",
    "new_experiment_csv_filename = experiment_name+\".csv\"\n",
    "\n",
    "column_types={'scan_uri': str, 'polymer_ratio_A': float, 'polymer_ratio_B': float, 'swell_ratio': float, 'fraction_A': int, 'fraction_B': int, 'fraction_C': int}\n",
    "# Create an empty dataframe with scan name and 3 columns - polymer ratio A, polymer ratio B, Swell ratio\n",
    "df = pd.DataFrame(columns=['scan_uri', 'polymer_ratio_A', 'polymer_ratio_B', 'swell_ratio', 'fraction_A', 'fraction_B', 'fraction_C'])\n",
    "df = df.astype(column_types)\n"
   ]
  },
  {
   "cell_type": "code",
   "execution_count": null,
   "metadata": {},
   "outputs": [],
   "source": [
    "df = pd.DataFrame({'scan_uri': ['0_A0p160_A0p160_sfloat_2m'], 'polymer_ratio_A': [''], 'polymer_ratio_B': [''], 'swell_ratio': [''], 'fraction_A': [''], 'fraction_B': [''], 'fraction_C': ['']})\n",
    "\n"
   ]
  },
  {
   "cell_type": "code",
   "execution_count": null,
   "metadata": {},
   "outputs": [],
   "source": [
    "#Creating a new node for the new experiment\n",
    "processed_experiment_names_container = client[\"processed\"]\n",
    "if experiment_name not in processed_experiment_names_container:\n",
    "    current_container_client = processed_experiment_names_container.create_container(\n",
    "                key=experiment_name\n",
    "            )"
   ]
  },
  {
   "cell_type": "code",
   "execution_count": null,
   "metadata": {},
   "outputs": [],
   "source": [
    "from tiled.client.node import Node\n",
    "from tiled.structures.data_source import DataSource\n",
    "from tiled.structures.table import TableStructure"
   ]
  },
  {
   "cell_type": "code",
   "execution_count": null,
   "metadata": {},
   "outputs": [],
   "source": [
    "from tiled.adapters.csv import read_csv"
   ]
  },
  {
   "cell_type": "code",
   "execution_count": null,
   "metadata": {},
   "outputs": [],
   "source": [
    "from tiled.adapters.hdf5 import HDF5Adapter\n",
    "from tiled.client import from_uri\n",
    "from tiled.structures.array import ArrayStructure, BuiltinDtype\n",
    "from tiled.structures.core import Spec, StructureFamily\n",
    "from tiled.structures.data_source import Asset, DataSource, Management\n",
    "from tiled.utils import ensure_uri"
   ]
  },
  {
   "cell_type": "code",
   "execution_count": null,
   "metadata": {},
   "outputs": [],
   "source": [
    "from tiled.utils import path_from_uri"
   ]
  },
  {
   "cell_type": "code",
   "execution_count": null,
   "metadata": {},
   "outputs": [],
   "source": [
    "current_experiment_client = processed_experiment_names_container[experiment_name]\n"
   ]
  },
  {
   "cell_type": "code",
   "execution_count": null,
   "metadata": {},
   "outputs": [],
   "source": [
    "output_file_path = \"/Users/rajavyshnavisriramoju/Desktop/Autonomous_SAXS_Sim/2024_03_25/processed/NaCl_4_10/NaCl_4_10.csv\"\n",
    "\n",
    "df.to_csv(output_file_path, index=False)\n",
    "\n",
    "adapter = read_csv(ensure_uri(output_file_path))\n",
    "# This will also include the function parameters\n",
    "\n",
    "current_experiment_client.new(\n",
    "    key=experiment_name,\n",
    "    structure_family=adapter.structure_family,\n",
    "    data_sources=[\n",
    "        DataSource(\n",
    "            management=Management.external,\n",
    "            mimetype=\"text/csv\",\n",
    "            structure_family=adapter.structure_family,\n",
    "            structure=adapter.structure(),\n",
    "            assets=[\n",
    "                Asset(\n",
    "                    data_uri=ensure_uri(output_file_path),\n",
    "                    is_directory=False,\n",
    "                    parameter=\"data_uri\",\n",
    "                )\n",
    "            ],\n",
    "        ),\n",
    "    ],\n",
    "    specs=adapter.specs,\n",
    ")"
   ]
  },
  {
   "cell_type": "code",
   "execution_count": null,
   "metadata": {},
   "outputs": [],
   "source": [
    "current_experiment_client[experiment_name].read()"
   ]
  },
  {
   "cell_type": "code",
   "execution_count": null,
   "metadata": {},
   "outputs": [],
   "source": [
    "import pandas as pd"
   ]
  },
  {
   "cell_type": "code",
   "execution_count": null,
   "metadata": {},
   "outputs": [],
   "source": [
    "df_exp = pd.read_csv(\"/Users/rajavyshnavisriramoju/Desktop/Autonomous_SAXS_Sim/2024_03_25/processed/NaCl_3_10/NaCl_3_10.csv\", dtype={\"Step 1, 58k\":float,\"Step 1, 32k\":float,\"Swell ratio\": float,\"Fraction 58k\" : float,\"Fraction 34k\": float,\"Fraction Additive\": float,\"Peak Position\": float,\"Fwhm\": float,\"d\": float,\"Step 2, Additive\": float,\"Step 2, Polymers\": float})\n"
   ]
  },
  {
   "cell_type": "code",
   "execution_count": null,
   "metadata": {},
   "outputs": [],
   "source": [
    "df_exp"
   ]
  },
  {
   "cell_type": "code",
   "execution_count": null,
   "metadata": {},
   "outputs": [],
   "source": [
    "df.to_csv(\"/Users/rajavyshnavisriramoju/Desktop/Autonomous_SAXS_Sim/2024_03_25/processed/NaCl_3_10/NaCl_3_10.csv\")"
   ]
  }
 ],
 "metadata": {
  "kernelspec": {
   "display_name": "workflow-viz-env",
   "language": "python",
   "name": "python3"
  },
  "language_info": {
   "codemirror_mode": {
    "name": "ipython",
    "version": 3
   },
   "file_extension": ".py",
   "mimetype": "text/x-python",
   "name": "python",
   "nbconvert_exporter": "python",
   "pygments_lexer": "ipython3",
   "version": "3.9.6"
  }
 },
 "nbformat": 4,
 "nbformat_minor": 2
}
